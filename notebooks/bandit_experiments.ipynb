{
 "cells": [
  {
   "cell_type": "markdown",
   "id": "29812f69",
   "metadata": {},
   "source": [
    "# Multi-Armed Bandit Experiments\n",
    "\n",
    "This notebook demonstrates different ** bandit algorithms ** (Epsilon-Greedy, UCB, Gradient Bandit), compares their performances, and explores parameter tuning. "
   ]
  },
  {
   "cell_type": "code",
   "execution_count": 3,
   "id": "f0472d76-2cde-4c61-8edc-9b866a1824c4",
   "metadata": {},
   "outputs": [
    {
     "name": "stdout",
     "output_type": "stream",
     "text": [
      "['C:\\\\ProgramData\\\\Anaconda3\\\\python39.zip', 'C:\\\\ProgramData\\\\Anaconda3\\\\DLLs', 'C:\\\\ProgramData\\\\Anaconda3\\\\lib', 'C:\\\\ProgramData\\\\Anaconda3', '', 'C:\\\\Users\\\\vscerra\\\\AppData\\\\Roaming\\\\Python\\\\Python39\\\\site-packages', 'C:\\\\ProgramData\\\\Anaconda3\\\\lib\\\\site-packages', 'C:\\\\ProgramData\\\\Anaconda3\\\\lib\\\\site-packages\\\\win32', 'C:\\\\ProgramData\\\\Anaconda3\\\\lib\\\\site-packages\\\\win32\\\\lib', 'C:\\\\ProgramData\\\\Anaconda3\\\\lib\\\\site-packages\\\\Pythonwin', 'C:\\\\Users\\\\vscerra\\\\Desktop\\\\DataScienceProjects\\\\reinforcement_learning\\\\notebooks\\\\Users\\x0bscerra\\\\Desktop\\\\DataScienceProjects\\reinforcement_learning', 'C:\\\\Users\\\\vscerra\\\\Desktop\\\\DataScienceProjects\\\\reinforcement_learning\\\\notebooks\\\\Users\\x0bscerra\\\\Desktop\\\\DataScienceProjects\\reinforcement_learning\\reinforcement_learning']\n"
     ]
    }
   ],
   "source": [
    "import sys\n",
    "import os\n",
    "\n",
    "# Get the absolute path of the project directory\n",
    "module_path = os.path.abspath(\"Users\\vscerra\\Desktop\\DataScienceProjects\\reinforcement_learning\\reinforcement_learning\")  # Go up one level to the project root\n",
    "sys.path.append(project_path)\n",
    "\n",
    "# Verify that reinforcement_learning is in sys.path\n",
    "print(sys.path)\n"
   ]
  },
  {
   "cell_type": "code",
   "execution_count": 4,
   "id": "06e0fa67-c447-4be2-839f-f9ba12773208",
   "metadata": {},
   "outputs": [
    {
     "ename": "ModuleNotFoundError",
     "evalue": "No module named 'reinforcement_learning'",
     "output_type": "error",
     "traceback": [
      "\u001b[1;31m---------------------------------------------------------------------------\u001b[0m",
      "\u001b[1;31mModuleNotFoundError\u001b[0m                       Traceback (most recent call last)",
      "Cell \u001b[1;32mIn[4], line 1\u001b[0m\n\u001b[1;32m----> 1\u001b[0m \u001b[38;5;28;01mimport\u001b[39;00m \u001b[38;5;21;01mreinforcement_learning\u001b[39;00m\n",
      "\u001b[1;31mModuleNotFoundError\u001b[0m: No module named 'reinforcement_learning'"
     ]
    }
   ],
   "source": [
    "import reinforcement_learning"
   ]
  },
  {
   "cell_type": "code",
   "execution_count": 6,
   "id": "5fbbb57c",
   "metadata": {},
   "outputs": [
    {
     "ename": "ModuleNotFoundError",
     "evalue": "No module named 'reinforcement_learning'",
     "output_type": "error",
     "traceback": [
      "\u001b[1;31m---------------------------------------------------------------------------\u001b[0m",
      "\u001b[1;31mModuleNotFoundError\u001b[0m                       Traceback (most recent call last)",
      "Cell \u001b[1;32mIn[6], line 3\u001b[0m\n\u001b[0;32m      1\u001b[0m \u001b[38;5;28;01mimport\u001b[39;00m \u001b[38;5;21;01mnumpy\u001b[39;00m \u001b[38;5;28;01mas\u001b[39;00m \u001b[38;5;21;01mnp\u001b[39;00m\n\u001b[0;32m      2\u001b[0m \u001b[38;5;28;01mimport\u001b[39;00m \u001b[38;5;21;01mmatplotlib\u001b[39;00m\u001b[38;5;21;01m.\u001b[39;00m\u001b[38;5;21;01mpyplot\u001b[39;00m \u001b[38;5;28;01mas\u001b[39;00m \u001b[38;5;21;01mplt\u001b[39;00m\n\u001b[1;32m----> 3\u001b[0m \u001b[38;5;28;01mfrom\u001b[39;00m \u001b[38;5;21;01mreinforcement_learning\u001b[39;00m\u001b[38;5;21;01m.\u001b[39;00m\u001b[38;5;21;01mbandit\u001b[39;00m \u001b[38;5;28;01mimport\u001b[39;00m Bandit\n\u001b[0;32m      4\u001b[0m \u001b[38;5;28;01mfrom\u001b[39;00m \u001b[38;5;21;01mreinforcement_learning\u001b[39;00m\u001b[38;5;21;01m.\u001b[39;00m\u001b[38;5;21;01malgorithms\u001b[39;00m\u001b[38;5;21;01m.\u001b[39;00m\u001b[38;5;21;01malgorithms\u001b[39;00m \u001b[38;5;28;01mimport\u001b[39;00m EpsilonGreedy, UCB, GradientBandit\n\u001b[0;32m      5\u001b[0m \u001b[38;5;28;01mfrom\u001b[39;00m \u001b[38;5;21;01mreinforcement_learning\u001b[39;00m\u001b[38;5;21;01m.\u001b[39;00m\u001b[38;5;21;01mexperiment\u001b[39;00m\u001b[38;5;21;01m.\u001b[39;00m\u001b[38;5;21;01mexperiment\u001b[39;00m \u001b[38;5;28;01mimport\u001b[39;00m run_experiment\n",
      "\u001b[1;31mModuleNotFoundError\u001b[0m: No module named 'reinforcement_learning'"
     ]
    }
   ],
   "source": [
    "import numpy as np\n",
    "import matplotlib.pyplot as plt\n",
    "from reinforcement_learning.bandit import Bandit\n",
    "from reinforcement_learning.algorithms.algorithms import EpsilonGreedy, UCB, GradientBandit\n",
    "from reinforcement_learning.experiment.experiment import run_experiment\n",
    "from reinforcement_learning.plots import plots"
   ]
  },
  {
   "cell_type": "code",
   "execution_count": null,
   "id": "4ed7d3cf",
   "metadata": {},
   "outputs": [],
   "source": []
  }
 ],
 "metadata": {
  "kernelspec": {
   "display_name": "Python 3 (ipykernel)",
   "language": "python",
   "name": "python3"
  },
  "language_info": {
   "codemirror_mode": {
    "name": "ipython",
    "version": 3
   },
   "file_extension": ".py",
   "mimetype": "text/x-python",
   "name": "python",
   "nbconvert_exporter": "python",
   "pygments_lexer": "ipython3",
   "version": "3.9.21"
  }
 },
 "nbformat": 4,
 "nbformat_minor": 5
}
