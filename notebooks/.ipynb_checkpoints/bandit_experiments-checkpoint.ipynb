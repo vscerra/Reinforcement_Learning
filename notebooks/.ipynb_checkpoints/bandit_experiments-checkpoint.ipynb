{
 "cells": [
  {
   "cell_type": "markdown",
   "id": "29812f69",
   "metadata": {},
   "source": [
    "# Multi-Armed Bandit Experiments\n",
    "\n",
    "This notebook demonstrates different ** bandit algorithms ** (Epsilon-Greedy, UCB, Gradient Bandit), compares their performances, and explores parameter tuning. "
   ]
  },
  {
   "cell_type": "code",
   "execution_count": 5,
   "id": "f0472d76-2cde-4c61-8edc-9b866a1824c4",
   "metadata": {},
   "outputs": [
    {
     "name": "stdout",
     "output_type": "stream",
     "text": [
      "['C:\\\\ProgramData\\\\Anaconda3\\\\python39.zip', 'C:\\\\ProgramData\\\\Anaconda3\\\\DLLs', 'C:\\\\ProgramData\\\\Anaconda3\\\\lib', 'C:\\\\ProgramData\\\\Anaconda3', '', 'C:\\\\Users\\\\vscerra\\\\AppData\\\\Roaming\\\\Python\\\\Python39\\\\site-packages', 'C:\\\\ProgramData\\\\Anaconda3\\\\lib\\\\site-packages', 'C:\\\\ProgramData\\\\Anaconda3\\\\lib\\\\site-packages\\\\win32', 'C:\\\\ProgramData\\\\Anaconda3\\\\lib\\\\site-packages\\\\win32\\\\lib', 'C:\\\\ProgramData\\\\Anaconda3\\\\lib\\\\site-packages\\\\Pythonwin', 'C:\\\\Users\\\\vscerra\\\\Desktop\\\\DataScienceProjects\\\\reinforcement_learning']\n"
     ]
    }
   ],
   "source": [
    "import sys\n",
    "import os\n",
    "\n",
    "# Get the absolute path of the project directory\n",
    "module_path = os.path.abspath(os.path.join('..'))  # Go up one level to the project root\n",
    "if module_path not in sys.path:\n",
    "    sys.path.append(module_path)\n",
    "\n",
    "# Verify that reinforcement_learning is in sys.path\n",
    "print(sys.path)\n"
   ]
  },
  {
   "cell_type": "code",
   "execution_count": 6,
   "id": "5fbbb57c",
   "metadata": {},
   "outputs": [],
   "source": [
    "import numpy as np\n",
    "import matplotlib.pyplot as plt\n",
    "\n",
    "from k_bandits.bandit import Bandit\n",
    "from k_bandits.algorithms import EpsilonGreedy, UCB, GradientBandit\n",
    "from k_bandits.experiment import run_experiment"
   ]
  },
  {
   "cell_type": "code",
   "execution_count": null,
   "id": "4ed7d3cf",
   "metadata": {},
   "outputs": [],
   "source": []
  }
 ],
 "metadata": {
  "kernelspec": {
   "display_name": "Python 3 (ipykernel)",
   "language": "python",
   "name": "python3"
  },
  "language_info": {
   "codemirror_mode": {
    "name": "ipython",
    "version": 3
   },
   "file_extension": ".py",
   "mimetype": "text/x-python",
   "name": "python",
   "nbconvert_exporter": "python",
   "pygments_lexer": "ipython3",
   "version": "3.9.21"
  }
 },
 "nbformat": 4,
 "nbformat_minor": 5
}
